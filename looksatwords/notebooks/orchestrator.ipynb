{
 "cells": [
  {
   "cell_type": "code",
   "execution_count": null,
   "metadata": {},
   "outputs": [],
   "source": [
    "from looksatwords.orchestrator import Orchestrator\n",
    "from looksatwords.gatherer import GnewsGatherer, GnewsQuery\n",
    "from looksatwords.generator import GnewsGenerator"
   ]
  },
  {
   "cell_type": "code",
   "execution_count": null,
   "metadata": {},
   "outputs": [],
   "source": [
    "g1 = GnewsGatherer(q=GnewsQuery('llm', start_date='2020-01-01', end_date='2023-12-31'))\n",
    "g2 = GnewsGatherer(q=GnewsQuery('ai', start_date='2020-01-01', end_date='2023-12-31'))\n",
    "\n",
    "fake1 = GnewsGenerator(seedword='llm')\n",
    "fake2 = GnewsGenerator(seedword='ai')"
   ]
  },
  {
   "cell_type": "code",
   "execution_count": null,
   "metadata": {},
   "outputs": [],
   "source": [
    "o = Orchestrator()\n",
    "\n",
    "o.add_gatherers([g1, g2])\n",
    "o.add_generators([fake1, fake2])"
   ]
  },
  {
   "cell_type": "code",
   "execution_count": null,
   "metadata": {},
   "outputs": [],
   "source": [
    "o.gather()"
   ]
  },
  {
   "cell_type": "code",
   "execution_count": null,
   "metadata": {},
   "outputs": [],
   "source": [
    "o.generate()"
   ]
  }
 ],
 "metadata": {
  "kernelspec": {
   "display_name": "Python 3",
   "language": "python",
   "name": "python3"
  },
  "language_info": {
   "codemirror_mode": {
    "name": "ipython",
    "version": 3
   },
   "file_extension": ".py",
   "mimetype": "text/x-python",
   "name": "python",
   "nbconvert_exporter": "python",
   "pygments_lexer": "ipython3",
   "version": "3.11.9"
  }
 },
 "nbformat": 4,
 "nbformat_minor": 2
}
